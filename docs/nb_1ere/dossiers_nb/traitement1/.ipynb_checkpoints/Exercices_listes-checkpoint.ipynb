{
 "cells": [
  {
   "cell_type": "markdown",
   "metadata": {},
   "source": [
    "Ex1 :\n",
    "\n",
    "On considère la liste ```temp = [4, -5, 8, 10, -1, -2, 7, 13]```.  \n",
    "Parcourir ```temp``` pour construire la liste ```temp_pos``` qui ne contient que les éléments positifs de  ```temp```."
   ]
  },
  {
   "cell_type": "code",
   "execution_count": 2,
   "metadata": {},
   "outputs": [
    {
     "data": {
      "text/plain": [
       "[4, 8, 10, 7, 13]"
      ]
     },
     "execution_count": 2,
     "metadata": {},
     "output_type": "execute_result"
    }
   ],
   "source": [
    "# on fait une fonction positif qui s'applique à temp :\n",
    "#    on crée la liste temp_pos\n",
    "#    pour chaque element dans temp :\n",
    "#        si l'élément est inférieur à 0 :\n",
    "#            ajouter l'élément à temp_pos (par la fonction append prébuilt dans python)\n",
    "\n",
    "\n",
    "#######\n",
    "\n",
    "\n",
    "# append sert à ajouter un élément à une liste, usage = \"liste\".append(\"ce qu'on veut\")\n",
    "\n",
    "temp = [4, -5, 8, 10, -1, -2, 7, 13]\n",
    "\n",
    "\n",
    "def positif(temp) :\n",
    "    temp_pos = []\n",
    "    for element in temp :\n",
    "        if element > 0 :\n",
    "            temp_pos.append(element)\n",
    "    return temp_pos\n",
    "\n",
    "positif(temp)"
   ]
  },
  {
   "cell_type": "markdown",
   "metadata": {},
   "source": [
    "Ex2 :\n",
    "\n",
    "On considère la liste ```lst = [51, 52, 66, 91, 92, 82, 65, 53, 86, 42, 79, 95]```.  \n",
    "Seuls les nombres entre 60 et 90 ont une signification : ce sont des codes ASCII (récupérables par la fonction ```chr()``` ).  \n",
    "\n",
    "Créer (en compréhension) une liste ```sol``` qui contient les lettres correspondants aux nombres ayant une signification."
   ]
  },
  {
   "cell_type": "code",
   "execution_count": 9,
   "metadata": {},
   "outputs": [
    {
     "data": {
      "text/plain": [
       "'O'"
      ]
     },
     "execution_count": 9,
     "metadata": {},
     "output_type": "execute_result"
    }
   ],
   "source": [
    "lst = [51, 52, 66, 91, 92, 82, 65, 53, 86, 42, 79, 95]\n",
    "\n",
    "\n",
    "sol ="
   ]
  },
  {
   "cell_type": "markdown",
   "metadata": {},
   "source": [
    "Ex3 :\n",
    "\n",
    "On considère la variable ```phrase = 'Bonjour les vacances sont finies'``` et la variable ```voyelles = 'aeiouy'```.\n",
    "\n",
    "Construire en compréhension la liste ```liste_voyelles``` qui contient toutes les voyelles présentes dans la variable ```phrase```."
   ]
  },
  {
   "cell_type": "code",
   "execution_count": null,
   "metadata": {},
   "outputs": [],
   "source": []
  },
  {
   "cell_type": "markdown",
   "metadata": {},
   "source": [
    "Ex4 :\n",
    "\n",
    "On considère le jeu du Morpion (ou *Tic-Tac-Toe*) dont la surface de jeu vierge est representée par le tableau :  \n",
    "```tab = [[' ', ' ', ' '], [' ', ' ', ' '], [' ', ' ', ' ']]``` \n",
    "\n",
    "Les premiers coups joués sont ceux-ci :\n",
    "- ```tab[1][1] = 'X'``` \n",
    "- ```tab[2][1] = 'O'``` \n",
    "- ```tab[2][2] = 'X'``` \n",
    "- ```tab[0][0] = 'O'``` \n",
    "\n",
    "Quel coup doit maintenant jouer le joueur  `'X'` pour s'assurer la victoire ?"
   ]
  },
  {
   "cell_type": "code",
   "execution_count": null,
   "metadata": {},
   "outputs": [],
   "source": []
  },
  {
   "cell_type": "markdown",
   "metadata": {},
   "source": [
    "Ex5 :\n",
    "\n",
    "On considère la liste ```m``` ('m' comme *matrice*) suivante :  \n",
    "\n",
    "```m = [[1, 9, 4], [4, 1, 8], [7, 10, 1]]```  \n",
    "\n",
    "Quelle est la somme de tous les nombres de la matrice ```m``` ?"
   ]
  },
  {
   "cell_type": "code",
   "execution_count": null,
   "metadata": {},
   "outputs": [],
   "source": []
  }
 ],
 "metadata": {
  "kernelspec": {
   "display_name": "Python 3",
   "language": "python",
   "name": "python3"
  },
  "language_info": {
   "codemirror_mode": {
    "name": "ipython",
    "version": 3
   },
   "file_extension": ".py",
   "mimetype": "text/x-python",
   "name": "python",
   "nbconvert_exporter": "python",
   "pygments_lexer": "ipython3",
   "version": "3.9.2+"
  },
  "varInspector": {
   "cols": {
    "lenName": 16,
    "lenType": 16,
    "lenVar": 40
   },
   "kernels_config": {
    "python": {
     "delete_cmd_postfix": "",
     "delete_cmd_prefix": "del ",
     "library": "var_list.py",
     "varRefreshCmd": "print(var_dic_list())"
    },
    "r": {
     "delete_cmd_postfix": ") ",
     "delete_cmd_prefix": "rm(",
     "library": "var_list.r",
     "varRefreshCmd": "cat(var_dic_list()) "
    }
   },
   "types_to_exclude": [
    "module",
    "function",
    "builtin_function_or_method",
    "instance",
    "_Feature"
   ],
   "window_display": false
  }
 },
 "nbformat": 4,
 "nbformat_minor": 2
}
