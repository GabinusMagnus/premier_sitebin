{
 "cells": [
  {
   "cell_type": "markdown",
   "id": "early-wisdom",
   "metadata": {},
   "source": [
    "# Tableaux"
   ]
  },
  {
   "cell_type": "markdown",
   "id": "analyzed-banking",
   "metadata": {},
   "source": [
    "**vérifie si un élément entré est dans un tableau entré**"
   ]
  },
  {
   "cell_type": "code",
   "execution_count": null,
   "id": "sapphire-partner",
   "metadata": {},
   "outputs": [],
   "source": [
    "#définir la fonction\n",
    "\n",
    "def maFonction(t:list, x:int)->bool :\n",
    "#attribue le type liste à la valeur t et le type entier à x puis le type booléen aux valeurs de maFonction   \n",
    "\n",
    "    tr = False\n",
    "    #définit la variable booléenne tr qui est égale à False\n",
    "    i = 1\n",
    "    #définit la variable i qui est égale à un\n",
    "    while i<=len(t) and tr == False:    \n",
    "        #tant que i est inférieur auif t[i-1]==x:\n",
    "            tr = True\n",
    "        i += 1\n",
    "    return tr"
   ]
  }
 ],
 "metadata": {
  "kernelspec": {
   "display_name": "Python 3",
   "language": "python",
   "name": "python3"
  },
  "language_info": {
   "codemirror_mode": {
    "name": "ipython",
    "version": 3
   },
   "file_extension": ".py",
   "mimetype": "text/x-python",
   "name": "python",
   "nbconvert_exporter": "python",
   "pygments_lexer": "ipython3",
   "version": "3.7.10"
  }
 },
 "nbformat": 4,
 "nbformat_minor": 5
}
