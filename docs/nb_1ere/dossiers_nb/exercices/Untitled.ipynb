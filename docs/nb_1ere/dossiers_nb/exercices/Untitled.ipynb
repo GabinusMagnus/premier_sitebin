{
 "cells": [
  {
   "cell_type": "markdown",
   "id": "hybrid-barbados",
   "metadata": {},
   "source": [
    "## Maximum"
   ]
  },
  {
   "cell_type": "code",
   "execution_count": 18,
   "id": "civic-chemical",
   "metadata": {},
   "outputs": [],
   "source": [
    "def indice_minimum(nombres:list):\n",
    "    indice_minimum = 0\n",
    "    minimum = nombres[0]\n",
    "    for k in range(len(nombres)):\n",
    "        if minimum > nombres[k]:\n",
    "            minimum = nombres[k]\n",
    "            indice_minimum = k\n",
    "        return indice_minimum"
   ]
  },
  {
   "cell_type": "code",
   "execution_count": 19,
   "id": "executive-appearance",
   "metadata": {},
   "outputs": [
    {
     "data": {
      "text/plain": [
       "0"
      ]
     },
     "execution_count": 19,
     "metadata": {},
     "output_type": "execute_result"
    }
   ],
   "source": [
    "indice_minimum([15,16,17,14])"
   ]
  }
 ],
 "metadata": {
  "kernelspec": {
   "display_name": "Python 3",
   "language": "python",
   "name": "python3"
  },
  "language_info": {
   "codemirror_mode": {
    "name": "ipython",
    "version": 3
   },
   "file_extension": ".py",
   "mimetype": "text/x-python",
   "name": "python",
   "nbconvert_exporter": "python",
   "pygments_lexer": "ipython3",
   "version": "3.7.10"
  }
 },
 "nbformat": 4,
 "nbformat_minor": 5
}
