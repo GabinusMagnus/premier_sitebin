{
 "cells": [
  {
   "cell_type": "markdown",
   "id": "promising-testimony",
   "metadata": {},
   "source": [
    "## palindrome"
   ]
  },
  {
   "cell_type": "code",
   "execution_count": null,
   "id": "demonstrated-trouble",
   "metadata": {},
   "outputs": [],
   "source": [
    "def palindromer(mot, palindrome):\n",
    "    nouveau_mot = \"\"\n",
    "    nouveau_mot += mot\n",
    "    nouve"
   ]
  }
 ],
 "metadata": {
  "kernelspec": {
   "display_name": "Python 3",
   "language": "python",
   "name": "python3"
  },
  "language_info": {
   "codemirror_mode": {
    "name": "ipython",
    "version": 3
   },
   "file_extension": ".py",
   "mimetype": "text/x-python",
   "name": "python",
   "nbconvert_exporter": "python",
   "pygments_lexer": "ipython3",
   "version": "3.7.10"
  }
 },
 "nbformat": 4,
 "nbformat_minor": 5
}
