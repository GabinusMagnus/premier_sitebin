{
 "cells": [
  {
   "cell_type": "markdown",
   "id": "instrumental-quebec",
   "metadata": {},
   "source": [
    "https://e-nsi.gitlab.io/pratique/N1/213-liste_differences/sujet/#tester-si-deux-listes-contiennent-des-valeurs-differentes"
   ]
  },
  {
   "cell_type": "code",
   "execution_count": 6,
   "id": "streaming-scratch",
   "metadata": {},
   "outputs": [],
   "source": [
    "def differences(source_1:list, source_2:list):\n",
    "    boole = None\n",
    "\n",
    "    for i in range(len(source_1)):\n",
    "        for i in range(len(source_2)):\n",
    "            if source_1[i]==source_2[i]:\n",
    "                boole = True\n",
    "                return boole\n",
    "            elif source_1[i]!=source_2[i]:\n",
    "                boole = False\n",
    "                return boole"
   ]
  },
  {
   "cell_type": "code",
   "execution_count": 7,
   "id": "incorporate-camel",
   "metadata": {},
   "outputs": [
    {
     "data": {
      "text/plain": [
       "True"
      ]
     },
     "execution_count": 7,
     "metadata": {},
     "output_type": "execute_result"
    }
   ],
   "source": [
    "differences([14, 87, 5, 65], [14, 86, 5, 64])"
   ]
  },
  {
   "cell_type": "code",
   "execution_count": null,
   "id": "historic-granny",
   "metadata": {},
   "outputs": [],
   "source": []
  }
 ],
 "metadata": {
  "kernelspec": {
   "display_name": "Python 3",
   "language": "python",
   "name": "python3"
  },
  "language_info": {
   "codemirror_mode": {
    "name": "ipython",
    "version": 3
   },
   "file_extension": ".py",
   "mimetype": "text/x-python",
   "name": "python",
   "nbconvert_exporter": "python",
   "pygments_lexer": "ipython3",
   "version": "3.7.10"
  }
 },
 "nbformat": 4,
 "nbformat_minor": 5
}
