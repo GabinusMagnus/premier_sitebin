{
 "cells": [
  {
   "cell_type": "markdown",
   "metadata": {},
   "source": [
    "# Algorithmique et complexité :\n",
    "\n",
    "<h2 class='fa fa-graduation-cap' style=\"color: MediumSeaGreen\"> A faire vous même :</h2>\n",
    "\n",
    "Lire la page [Introduction à l'algorithmique](https://pixees.fr/informatiquelycee/n_site/nsi_prem_intro_algo.html) proposée par David ROCHE puis répondre aux questions suivantes :"
   ]
  },
  {
   "cell_type": "markdown",
   "metadata": {},
   "source": [
    "- A qui attribue-t-on les premiers algorithmes :\n",
    "\n",
    "Abou Jafar"
   ]
  },
  {
   "cell_type": "markdown",
   "metadata": {},
   "source": [
    "- Qu'est-ce qu'un algorithme ? Proposez une définition :\n",
    "\n",
    "*Enchaînement de calculs méthodique dans lequel on entre des valeurs et qui en renvoie.*"
   ]
  },
  {
   "cell_type": "markdown",
   "metadata": {},
   "source": [
    "- Dans quel langage exprime-t-on un algorithme :\n",
    "\n",
    "*langage naturel, c'est-à-dire \"si\", \"tant que\",...*"
   ]
  },
  {
   "cell_type": "markdown",
   "metadata": {},
   "source": [
    "- Rechercher sur le Web ce qu'est un algorigramme ? Proposez des synonymes puis collez ci-dessous un lien hypertexte, une image d'un exemple d'algorigramme :\n",
    "\n",
    "*Représentation graphique d'un algorithme*\n"
   ]
  },
  {
   "cell_type": "code",
   "execution_count": 1,
   "metadata": {},
   "outputs": [
    {
     "data": {
      "text/html": [
       "<center>\n",
       "<iframe  src=\"https://www.robot-maker.com/ouvrages/wp-content/uploads/2016/09/Diagramme1.png\" width=70% height=\"500\" ></iframe>\n",
       "</center>\n"
      ],
      "text/plain": [
       "<IPython.core.display.HTML object>"
      ]
     },
     "metadata": {},
     "output_type": "display_data"
    }
   ],
   "source": [
    "%%HTML\n",
    "<center>\n",
    "<iframe  src=\"https://www.robot-maker.com/ouvrages/wp-content/uploads/2016/09/Diagramme1.png\" width=70% height=\"500\" ></iframe>\n",
    "</center>"
   ]
  },
  {
   "cell_type": "markdown",
   "metadata": {},
   "source": [
    "- Que devez vous faire si on vous demande d'implémenter un algorithme ?\n",
    "\n",
    "*D'abord établir l'algorigramme, puis traduire l'algorithme dans le langage de programmation.*"
   ]
  },
  {
   "cell_type": "markdown",
   "metadata": {},
   "source": [
    "- Qu'est-ce que la complexité d'un algorithme ?\n",
    "\n",
    "*Son nombre d'opérations élémentaires, la précision des instructions*"
   ]
  },
  {
   "cell_type": "markdown",
   "metadata": {},
   "source": [
    "- Quels types de complexité distingue-t-on pour un algorithme ?\n",
    "\n",
    "*complexité en temps et complexité en mémoire*"
   ]
  },
  {
   "cell_type": "markdown",
   "metadata": {},
   "source": [
    "- Comment mesure-t-on la complexité d'un algorithme ?\n",
    "\n",
    "*En nombre d'opérations et de fonctions*"
   ]
  },
  {
   "cell_type": "markdown",
   "metadata": {},
   "source": [
    "- A quoi correspond la complexité du pire des cas ?\n",
    "\n",
    "*Au nombre maximal potentiel d'opérations élémentaires dans le même algorithme*"
   ]
  },
  {
   "cell_type": "markdown",
   "metadata": {},
   "source": [
    "<h2 class='fa fa-code' style=\"color: darkorange\"> A coder vous même :</h2>\n",
    "\n",
    "### Implémenter l'algorithme suivant dans une fonction en Python :\n",
    "\n",
    "> /!\\ en Python le premier élément d'un tableau a pour indice 0\n",
    "\n",
    "```pseudocode\n",
    "VARIABLE\n",
    "t : tableau d'entiers\n",
    "x : nombre entier\n",
    "tr : booléen (VRAI ou FAUX)\n",
    "i : nombre entier\n",
    "DEBUT\n",
    "tr ← FAUX\n",
    "i ← 1\n",
    "tant que i<=longueur(t) et que tr==FAUX:\n",
    "  si t[i]==x:\n",
    "    tr ← VRAI\n",
    "  fin si\n",
    "  i ← i+1\n",
    "fin tant que\n",
    "renvoyer la valeur de tr\n",
    "FIN\n",
    "```"
   ]
  },
  {
   "cell_type": "code",
   "execution_count": 1,
   "metadata": {},
   "outputs": [],
   "source": [
    "def maFonction(t:list, x:int)->bool :\n",
    "    \n",
    "    tr = False\n",
    "    i = 1\n",
    "    while i<=len(t) and tr == False:    \n",
    "        if t[i-1]==x:\n",
    "            tr = True\n",
    "        i += 1\n",
    "    return tr"
   ]
  },
  {
   "cell_type": "markdown",
   "metadata": {},
   "source": [
    "### Vérifier le bon fonctionnement de votre fonction :"
   ]
  },
  {
   "cell_type": "code",
   "execution_count": 2,
   "metadata": {},
   "outputs": [
    {
     "data": {
      "text/plain": [
       "True"
      ]
     },
     "execution_count": 2,
     "metadata": {},
     "output_type": "execute_result"
    }
   ],
   "source": [
    "maFonction([5,8,15,53], 15)"
   ]
  },
  {
   "cell_type": "code",
   "execution_count": 3,
   "metadata": {},
   "outputs": [
    {
     "data": {
      "text/plain": [
       "False"
      ]
     },
     "execution_count": 3,
     "metadata": {},
     "output_type": "execute_result"
    }
   ],
   "source": [
    "maFonction([5,8,15,53], 12)"
   ]
  },
  {
   "cell_type": "markdown",
   "metadata": {},
   "source": [
    "### Puis mesurer le temps d'exécution de votre programme avec `timeit` :"
   ]
  },
  {
   "cell_type": "code",
   "execution_count": 4,
   "metadata": {},
   "outputs": [
    {
     "name": "stdout",
     "output_type": "stream",
     "text": [
      "1.15 µs ± 2.74 ns per loop (mean ± std. dev. of 7 runs, 1000000 loops each)\n"
     ]
    }
   ],
   "source": [
    "%timeit maFonction([5,8,15,53], 15)"
   ]
  },
  {
   "cell_type": "code",
   "execution_count": 5,
   "metadata": {},
   "outputs": [
    {
     "name": "stdout",
     "output_type": "stream",
     "text": [
      "1.43 µs ± 1.47 ns per loop (mean ± std. dev. of 7 runs, 1000000 loops each)\n"
     ]
    }
   ],
   "source": [
    "%timeit maFonction([5,8,15,53], 12)"
   ]
  },
  {
   "cell_type": "code",
   "execution_count": 6,
   "metadata": {},
   "outputs": [
    {
     "name": "stdout",
     "output_type": "stream",
     "text": [
      "646 ns ± 3.59 ns per loop (mean ± std. dev. of 7 runs, 1000000 loops each)\n"
     ]
    }
   ],
   "source": [
    "%timeit maFonction([5,8,15,53], 5)"
   ]
  },
  {
   "cell_type": "markdown",
   "metadata": {},
   "source": [
    "Est-ce que ces résultats sont logiques ? Expliquez pourquoi ?\n",
    "\n",
    "*Oui. Dans la première et la troisième mesure x se trouve dan t. La troisième est plus rapide car x est le premier élément de la liste, la fonction n'a vérifié qu'une fois la liste avant de renvoyer true. Sur la première, 15 est le troisième élément de la liste, donc la fonction a vérifié les deux valeurs d'avant avant de renvoyer true.\n",
    "La deuxième mesure, x n'est pas dans t donc la fonction a vérifié chaque valeur.*"
   ]
  },
  {
   "cell_type": "markdown",
   "metadata": {},
   "source": [
    "Mesurez le temps d'exécution de votre programme pour des tableaux de plus grande dimension.\n",
    "\n",
    "Est-ce que ces résultats vérifient l'ordre de grandeur de sa complexité ?\n",
    "\n",
    "..."
   ]
  },
  {
   "cell_type": "code",
   "execution_count": null,
   "metadata": {},
   "outputs": [],
   "source": []
  },
  {
   "cell_type": "code",
   "execution_count": null,
   "metadata": {},
   "outputs": [],
   "source": []
  },
  {
   "cell_type": "code",
   "execution_count": null,
   "metadata": {},
   "outputs": [],
   "source": []
  },
  {
   "cell_type": "markdown",
   "metadata": {},
   "source": [
    "<h2 class='fa fa-cogs' style=\"color: tomato\"> A faire vous même :</h2>"
   ]
  },
  {
   "cell_type": "markdown",
   "metadata": {},
   "source": [
    "Écrivez un algorithme permettant de trouver le plus grand entier présent dans un tableau.\n",
    "\n",
    "```pseudocode\n",
    "VARIABLE\n",
    "t : tableau d'entiers\n",
    "\n",
    "i = 1\n",
    "\n",
    "max = 1\n",
    "\n",
    "DEBUT\n",
    "\n",
    "tant que i<=len(t):\n",
    "    si max < t[i] :\n",
    "        max == t[i]\n",
    "\n",
    "\n",
    "\n",
    "renvoyer max\n",
    "FIN\n",
    "```\n",
    "\n",
    "Vous ferez \"tourner à la main\" votre algorithme en utilisant le tableau `t = [3,5,1,8,4,2]`.\n",
    "\n",
    "Vous déterminerez ensuite la complexité de votre algorithme.\n",
    "\n",
    "Enfin programmez une fonction Python correspondante à votre algorithme puis mesurez son temps d'exécution et vérifiez sa complexité..."
   ]
  },
  {
   "cell_type": "code",
   "execution_count": 5,
   "metadata": {},
   "outputs": [],
   "source": [
    "def plus_grand(t:list):\n",
    "    i = 1\n",
    "    max = 0\n",
    "    \n",
    "    while i<=len(t):\n",
    "        i += 1\n",
    "        if max < t[i-1] :\n",
    "            max = t[i-1]\n",
    "    \n",
    "    return max\n",
    "    "
   ]
  },
  {
   "cell_type": "code",
   "execution_count": 10,
   "metadata": {},
   "outputs": [],
   "source": [
    "def plus_grand(t:list):\n",
    "    max = 0\n",
    "    i = t[i]\n",
    "    \n",
    "    for loop in range(len(t)):\n",
    "            i = t[i]\n",
    "            if max < t[i-1] :\n",
    "                max == t[i-1]\n",
    "    \n",
    "    return max\n",
    "    "
   ]
  },
  {
   "cell_type": "code",
   "execution_count": 11,
   "metadata": {
    "scrolled": true
   },
   "outputs": [
    {
     "ename": "UnboundLocalError",
     "evalue": "local variable 'i' referenced before assignment",
     "output_type": "error",
     "traceback": [
      "\u001b[0;31m---------------------------------------------------------------------------\u001b[0m",
      "\u001b[0;31mUnboundLocalError\u001b[0m                         Traceback (most recent call last)",
      "\u001b[0;32m<ipython-input-11-c293c5d100ba>\u001b[0m in \u001b[0;36m<module>\u001b[0;34m\u001b[0m\n\u001b[0;32m----> 1\u001b[0;31m \u001b[0mplus_grand\u001b[0m\u001b[0;34m(\u001b[0m\u001b[0;34m[\u001b[0m\u001b[0;36m3\u001b[0m\u001b[0;34m,\u001b[0m\u001b[0;36m5\u001b[0m\u001b[0;34m,\u001b[0m\u001b[0;36m1\u001b[0m\u001b[0;34m,\u001b[0m\u001b[0;36m8\u001b[0m\u001b[0;34m,\u001b[0m\u001b[0;36m4\u001b[0m\u001b[0;34m,\u001b[0m\u001b[0;36m2\u001b[0m\u001b[0;34m]\u001b[0m\u001b[0;34m)\u001b[0m\u001b[0;34m\u001b[0m\u001b[0;34m\u001b[0m\u001b[0m\n\u001b[0m",
      "\u001b[0;32m<ipython-input-10-9c986be6e944>\u001b[0m in \u001b[0;36mplus_grand\u001b[0;34m(t)\u001b[0m\n\u001b[1;32m      1\u001b[0m \u001b[0;32mdef\u001b[0m \u001b[0mplus_grand\u001b[0m\u001b[0;34m(\u001b[0m\u001b[0mt\u001b[0m\u001b[0;34m:\u001b[0m\u001b[0mlist\u001b[0m\u001b[0;34m)\u001b[0m\u001b[0;34m:\u001b[0m\u001b[0;34m\u001b[0m\u001b[0;34m\u001b[0m\u001b[0m\n\u001b[1;32m      2\u001b[0m     \u001b[0mmax\u001b[0m \u001b[0;34m=\u001b[0m \u001b[0;36m0\u001b[0m\u001b[0;34m\u001b[0m\u001b[0;34m\u001b[0m\u001b[0m\n\u001b[0;32m----> 3\u001b[0;31m     \u001b[0mi\u001b[0m \u001b[0;34m=\u001b[0m \u001b[0mt\u001b[0m\u001b[0;34m[\u001b[0m\u001b[0mi\u001b[0m\u001b[0;34m]\u001b[0m\u001b[0;34m\u001b[0m\u001b[0;34m\u001b[0m\u001b[0m\n\u001b[0m\u001b[1;32m      4\u001b[0m \u001b[0;34m\u001b[0m\u001b[0m\n\u001b[1;32m      5\u001b[0m     \u001b[0;32mfor\u001b[0m \u001b[0mloop\u001b[0m \u001b[0;32min\u001b[0m \u001b[0mrange\u001b[0m\u001b[0;34m(\u001b[0m\u001b[0mlen\u001b[0m\u001b[0;34m(\u001b[0m\u001b[0mt\u001b[0m\u001b[0;34m)\u001b[0m\u001b[0;34m)\u001b[0m\u001b[0;34m:\u001b[0m\u001b[0;34m\u001b[0m\u001b[0;34m\u001b[0m\u001b[0m\n",
      "\u001b[0;31mUnboundLocalError\u001b[0m: local variable 'i' referenced before assignment"
     ]
    }
   ],
   "source": [
    "plus_grand([3,5,1,8,4,2])"
   ]
  },
  {
   "cell_type": "markdown",
   "metadata": {},
   "source": [
    "<h2 class='fa fa-cogs' style=\"color: tomato\"> A faire vous même :</h2>"
   ]
  },
  {
   "cell_type": "markdown",
   "metadata": {},
   "source": [
    "Écrivez un algorithme permettant de calculer la moyenne de tous les entiers présents dans un tableau.\n",
    "\n",
    "```pseudocode\n",
    "VARIABLE\n",
    "t : tableau d'entiers\n",
    "\n",
    "i = 1\n",
    "\n",
    "max = 1\n",
    "\n",
    "DEBUT\n",
    "\n",
    "somme_notes = sum\n",
    "\n",
    "nombre_notes = len(t)\n",
    "\n",
    "\n",
    "\n",
    "\n",
    "\n",
    "renvoyer ...\n",
    "FIN\n",
    "```\n",
    "\n",
    "Vous ferez \"tourner à la main\" votre algorithme en utilisant le tableau `t = [3,5,1,8,4,2]`.\n",
    "\n",
    "Vous déterminerez ensuite la complexité de votre algorithme.\n",
    "\n",
    "Enfin programmez une fonction Python correspondante à votre algorithme puis mesurez son temps d'exécution et vérifiez sa complexité..."
   ]
  },
  {
   "cell_type": "code",
   "execution_count": null,
   "metadata": {},
   "outputs": [],
   "source": []
  },
  {
   "cell_type": "markdown",
   "metadata": {},
   "source": [
    "****\n",
    "## Références aux programmes :\n",
    "\n",
    "<style type=\"text/css\">\n",
    ".tg  {border-collapse:collapse;border-spacing:0;}\n",
    ".tg td{font-family:Arial, sans-serif;font-size:14px;padding:10px 5px;border-style:solid;border-width:1px;overflow:hidden;word-break:normal;border-color:black;}\n",
    ".tg th{font-family:Arial, sans-serif;font-size:14px;font-weight:normal;padding:10px 5px;border-style:solid;border-width:1px;overflow:hidden;word-break:normal;border-color:black;}\n",
    ".tg .tg-cv16{font-weight:bold;background-color:#dae8fc;border-color:inherit;text-align:center}\n",
    ".tg .tg-xldj{border-color:inherit;text-align:left}\n",
    "</style>\n",
    "\n",
    "<table class=\"tg\">\n",
    "  <tr>\n",
    "    <th class=\"tg-cv16\">Contenus</th>\n",
    "    <th class=\"tg-cv16\">Capacités attendues</th>\n",
    "    <th class=\"tg-cv16\">Commentaires</th>\n",
    "  </tr>\n",
    "  \n",
    "  <tr>\n",
    "    <td class=\"tg-xldj\">Parcours séquentiel d’un tableau</td>\n",
    "    <td class=\"tg-xldj\">Écrire un algorithme de recherche d’une occurrence sur des valeurs de type quelconque.<br>Écrire un algorithme de recherche d’un extremum, de calcul d’une moyenne.</td>\n",
    "    <td class=\"tg-xldj\">On montre que le coût est linéaire.</td>\n",
    "  </tr>\n",
    "    \n",
    "</table>"
   ]
  },
  {
   "cell_type": "markdown",
   "metadata": {},
   "source": [
    "## Ressources :\n",
    "\n",
    "Pour mesurer un temps d'exécution, Python dispose d'une bibliothèque dédiée : [timeit](https://docs.python.org/3.8/library/timeit)"
   ]
  },
  {
   "cell_type": "markdown",
   "metadata": {},
   "source": [
    "Dans jupyter :\n",
    "\n",
    "```python\n",
    "%timeit ma_fonction()\n",
    "```\n",
    "\n",
    "ou \n",
    "\n",
    "```python\n",
    "%%timeit\n",
    "i,r = 0,1\n",
    "n = 5\n",
    "while i <= n:\n",
    "    i = i + 1\n",
    "    r = r*i\n",
    "```\n",
    "\n",
    "Afficher l'aide :"
   ]
  },
  {
   "cell_type": "code",
   "execution_count": null,
   "metadata": {},
   "outputs": [],
   "source": [
    "?timeit"
   ]
  },
  {
   "cell_type": "markdown",
   "metadata": {},
   "source": [
    "<a rel=\"license\" href=\"http://creativecommons.org/licenses/by-sa/4.0/\"><img alt=\"Licence Creative Commons\" style=\"border-width:0\" src=\"https://i.creativecommons.org/l/by-sa/4.0/88x31.png\" /></a><br />Ce document, basé sur le travail de [David ROCHE](https://pixees.fr/informatiquelycee/n_site/nsi_prem.html), est mis à disposition selon les termes de la <a rel=\"license\" href=\"http://creativecommons.org/licenses/by-sa/4.0/\">Licence Creative Commons Attribution -  Partage dans les Mêmes Conditions 4.0 International</a>.\n",
    "\n",
    "Pour toute question, suggestion ou commentaire : <a href=\"mailto:eric.madec@ecmorlaix.fr\">eric.madec@ecmorlaix.fr</a>"
   ]
  }
 ],
 "metadata": {
  "kernelspec": {
   "display_name": "Python 3",
   "language": "python",
   "name": "python3"
  },
  "language_info": {
   "codemirror_mode": {
    "name": "ipython",
    "version": 3
   },
   "file_extension": ".py",
   "mimetype": "text/x-python",
   "name": "python",
   "nbconvert_exporter": "python",
   "pygments_lexer": "ipython3",
   "version": "3.7.10"
  },
  "toc": {
   "base_numbering": 1,
   "nav_menu": {},
   "number_sections": true,
   "sideBar": true,
   "skip_h1_title": false,
   "title_cell": "Table of Contents",
   "title_sidebar": "Contents",
   "toc_cell": false,
   "toc_position": {},
   "toc_section_display": true,
   "toc_window_display": false
  },
  "varInspector": {
   "cols": {
    "lenName": 16,
    "lenType": 16,
    "lenVar": 40
   },
   "kernels_config": {
    "python": {
     "delete_cmd_postfix": "",
     "delete_cmd_prefix": "del ",
     "library": "var_list.py",
     "varRefreshCmd": "print(var_dic_list())"
    },
    "r": {
     "delete_cmd_postfix": ") ",
     "delete_cmd_prefix": "rm(",
     "library": "var_list.r",
     "varRefreshCmd": "cat(var_dic_list()) "
    }
   },
   "types_to_exclude": [
    "module",
    "function",
    "builtin_function_or_method",
    "instance",
    "_Feature"
   ],
   "window_display": false
  }
 },
 "nbformat": 4,
 "nbformat_minor": 2
}
